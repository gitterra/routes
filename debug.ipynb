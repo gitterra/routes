{
 "cells": [
  {
   "cell_type": "code",
   "execution_count": 33,
   "metadata": {},
   "outputs": [
    {
     "data": {
      "text/plain": [
       "<module 'utils' from 'd:\\\\AIU\\\\git\\\\routes\\\\utils.py'>"
      ]
     },
     "execution_count": 33,
     "metadata": {},
     "output_type": "execute_result"
    }
   ],
   "source": [
    "import random\n",
    "import numpy as np\n",
    "import matplotlib.pyplot as plt\n",
    "\n",
    "import utils\n",
    "\n",
    "import importlib as im\n",
    "im.reload(utils)"
   ]
  },
  {
   "cell_type": "code",
   "execution_count": 116,
   "metadata": {},
   "outputs": [],
   "source": [
    "class Hungarian:\n",
    "  rounding_value = 5\n",
    "\n",
    "  def __init__(\n",
    "      self,\n",
    "      random_generate : bool = False,\n",
    "      checkpoints_cnt : int = 10,\n",
    "      minmax : tuple = (5, 15),\n",
    "      data : list = [[],[]]):\n",
    "      \"\"\"инициализация объекта венгерского алгоритма\n",
    "\n",
    "      Args:\n",
    "          random_generate (bool, optional): генерация случайной карты. Defaults to False.\n",
    "          checkpoints_cnt (int, optional): количество точек (используется только при генерации карты). Defaults to 10.\n",
    "          minmax (tuple, optional): минимальное и максимальное значение времени между двумя точками (используется только при генерации карты). Defaults to (5, 15).\n",
    "          data (list, optional): карта, заданная пользователем (используется при значении random_generate=False). Defaults to [[],[]].\n",
    "      \"\"\"\n",
    "      if random_generate:\n",
    "        self.start_field = np.random.randint(minmax[0], minmax[1], size=(checkpoints_cnt, checkpoints_cnt))\n",
    "      else:\n",
    "        self.start_field = np.array(data)\n",
    "\n",
    "      self.max_time = self.start_field.max()+1\n",
    "      np.fill_diagonal(self.start_field, self.max_time)\n",
    "      self.checkpoints_cnt = self.start_field.shape[0]\n",
    "      self.current_field = utils.rounding(\n",
    "        field=self.start_field.copy(),\n",
    "        rounding_value=self.__class__.rounding_value)\n",
    "\n",
    "\n",
    "  def reduce(self) -> None:         \n",
    "      \"\"\"Выполнение операции вычитания минимальных значений по строкам и столбцам\n",
    "      \"\"\"\n",
    "      self.current_field = (self.current_field.T - utils.get_min(self.current_field, True)).T\n",
    "      self.current_field -= utils.get_min(self.current_field, False)\n",
    "      np.fill_diagonal(self.current_field, self.max_time)\n",
    "\n",
    "\n",
    "  def check(self) -> np.array:\n",
    "      \"\"\"Поиск возможных решений\n",
    "\n",
    "      Returns:\n",
    "           np.array: найденные решения\n",
    "      \"\"\"\n",
    "      def recursive_search(checkpoint:int, path:list) -> None:\n",
    "        \"\"\"Рекурсивная проверка существования решения\n",
    "\n",
    "        Args:\n",
    "            checkpoint (int): номер точки\n",
    "            path (list): маршрут\n",
    "        \"\"\"\n",
    "        if len(path)==self.checkpoints_cnt:\n",
    "            exists_path.append(path)\n",
    "            return\n",
    "        if checkpoint in path:\n",
    "            return        \n",
    "        path.append(checkpoint)        \n",
    "        for value in checkpoit_times[checkpoint]:\n",
    "            recursive_search(value, path.copy())                \n",
    "        \n",
    "      exists_path = []\n",
    "      rows, columns = np.where(self.current_field==0)\n",
    "      checkpoit_times = {i:[] for i in range(self.checkpoints_cnt)}\n",
    "      for i, rr in enumerate(rows):\n",
    "          checkpoit_times[rr].append(columns[i])\n",
    "      for i in range(self.checkpoints_cnt):\n",
    "          recursive_search(i, [])\n",
    "      return np.unique(exists_path, axis=0)"
   ]
  },
  {
   "cell_type": "code",
   "execution_count": 117,
   "metadata": {},
   "outputs": [
    {
     "data": {
      "text/plain": [
       "list"
      ]
     },
     "execution_count": 117,
     "metadata": {},
     "output_type": "execute_result"
    }
   ],
   "source": [
    "type([0].copy())"
   ]
  },
  {
   "cell_type": "code",
   "execution_count": 132,
   "metadata": {},
   "outputs": [
    {
     "name": "stdout",
     "output_type": "stream",
     "text": [
      "\n"
     ]
    },
    {
     "data": {
      "text/plain": [
       "array([[ 0,  7,  5,  8,  6, 11,  4,  3, 10,  9,  1,  2],\n",
       "       [ 0,  7,  5,  8,  6, 11, 10,  9,  1,  2,  4,  3],\n",
       "       [ 0,  7,  9,  1,  2,  4,  3,  5,  8,  6, 11, 10],\n",
       "       [ 1,  2,  4,  3,  5,  8,  6, 11, 10,  0,  7,  9],\n",
       "       [ 1,  2,  4,  3, 10,  0,  7,  9,  5,  8,  6, 11],\n",
       "       [ 1,  2,  4,  3, 11, 10,  0,  7,  9,  5,  8,  6],\n",
       "       [ 2,  4,  3,  5,  8,  6, 11, 10,  0,  7,  9,  1],\n",
       "       [ 2,  4,  3,  5, 10,  0,  7,  9,  1,  8,  6, 11],\n",
       "       [ 3,  5,  8,  4,  6, 11, 10,  0,  7,  9,  1,  2],\n",
       "       [ 3,  5,  8,  6, 11, 10,  0,  7,  9,  1,  2,  4],\n",
       "       [ 3,  5,  8,  6, 11, 10,  9,  1,  2,  4,  0,  7],\n",
       "       [ 3,  5,  8,  7,  9,  1,  2,  4,  6, 11, 10,  0],\n",
       "       [ 3, 10,  9,  1,  2,  4,  0,  7,  5,  8,  6, 11],\n",
       "       [ 3, 11, 10,  9,  1,  2,  4,  0,  7,  5,  8,  6],\n",
       "       [ 4,  3,  5,  8,  6, 11, 10,  0,  7,  9,  1,  2],\n",
       "       [ 5,  8,  6, 11,  4,  3, 10,  0,  7,  9,  1,  2],\n",
       "       [ 5,  8,  6, 11, 10,  0,  7,  9,  1,  2,  4,  3],\n",
       "       [ 6, 11, 10,  0,  7,  9,  1,  2,  4,  3,  5,  8],\n",
       "       [ 7,  9,  1,  2,  4,  3,  5,  8,  6, 11, 10,  0],\n",
       "       [ 8,  6, 11,  4,  3,  5, 10,  0,  7,  9,  1,  2],\n",
       "       [ 8,  6, 11, 10,  0,  7,  9,  1,  2,  4,  3,  5],\n",
       "       [ 9,  1,  2,  4,  3,  5,  8,  6, 11, 10,  0,  7],\n",
       "       [ 9,  1,  2,  4,  3, 10,  0,  7,  5,  8,  6, 11],\n",
       "       [ 9,  1,  2,  4,  3, 11, 10,  0,  7,  5,  8,  6],\n",
       "       [10,  0,  7,  9,  1,  2,  4,  3,  5,  8,  6, 11],\n",
       "       [11, 10,  0,  7,  9,  1,  2,  4,  3,  5,  8,  6]], dtype=int64)"
      ]
     },
     "execution_count": 132,
     "metadata": {},
     "output_type": "execute_result"
    }
   ],
   "source": [
    "hung = Hungarian(random_generate=True, checkpoints_cnt=12, minmax=(4, 27))\n",
    "#print(hung.current_field)\n",
    "hung.reduce()\n",
    "#print(hung.current_field)\n",
    "print()\n",
    "hung.check()\n"
   ]
  },
  {
   "cell_type": "code",
   "execution_count": 113,
   "metadata": {},
   "outputs": [
    {
     "name": "stdout",
     "output_type": "stream",
     "text": [
      "{0: [2, 5], 1: [2, 3, 6], 2: [0, 1, 4, 5], 3: [6], 4: [0], 5: [0, 3], 6: [0]}\n"
     ]
    },
    {
     "data": {
      "text/plain": [
       "array([[1, 2, 4, 0, 5, 3, 6]], dtype=int64)"
      ]
     },
     "execution_count": 113,
     "metadata": {},
     "output_type": "execute_result"
    }
   ],
   "source": []
  },
  {
   "cell_type": "code",
   "execution_count": 101,
   "metadata": {},
   "outputs": [
    {
     "data": {
      "text/plain": [
       "set"
      ]
     },
     "execution_count": 101,
     "metadata": {},
     "output_type": "execute_result"
    }
   ],
   "source": [
    "k = set()\n",
    "type(k)"
   ]
  },
  {
   "cell_type": "code",
   "execution_count": null,
   "metadata": {},
   "outputs": [],
   "source": []
  }
 ],
 "metadata": {
  "kernelspec": {
   "display_name": "Python 3.7.4 ('base')",
   "language": "python",
   "name": "python3"
  },
  "language_info": {
   "codemirror_mode": {
    "name": "ipython",
    "version": 3
   },
   "file_extension": ".py",
   "mimetype": "text/x-python",
   "name": "python",
   "nbconvert_exporter": "python",
   "pygments_lexer": "ipython3",
   "version": "3.7.4"
  },
  "orig_nbformat": 4,
  "vscode": {
   "interpreter": {
    "hash": "ad2bdc8ecc057115af97d19610ffacc2b4e99fae6737bb82f5d7fb13d2f2c186"
   }
  }
 },
 "nbformat": 4,
 "nbformat_minor": 2
}
