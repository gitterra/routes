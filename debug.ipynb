{
 "cells": [
  {
   "cell_type": "code",
   "execution_count": 126,
   "metadata": {},
   "outputs": [
    {
     "data": {
      "text/plain": [
       "<module 'utils' from '/Users/sergey/AIU/routes/utils.py'>"
      ]
     },
     "execution_count": 126,
     "metadata": {},
     "output_type": "execute_result"
    }
   ],
   "source": [
    "import random\n",
    "import numpy as np\n",
    "import matplotlib.pyplot as plt\n",
    "\n",
    "from genetics import GeneticRemovingZeros\n",
    "import utils\n",
    "\n",
    "import importlib as im\n",
    "im.reload(utils)"
   ]
  },
  {
   "cell_type": "code",
   "execution_count": 2,
   "metadata": {},
   "outputs": [],
   "source": [
    "class Hungarian:\n",
    "    rounding_value = 2\n",
    "\n",
    "    def __init__(\n",
    "        self,\n",
    "        random_generate : bool = False,\n",
    "        checkpoints_cnt : int = 10,\n",
    "        minmax : tuple = (5, 15),\n",
    "        data : list = [[],[]]):\n",
    "        \"\"\"инициализация объекта венгерского алгоритма\n",
    "\n",
    "        Args:\n",
    "            random_generate (bool, optional): генерация случайной карты. Defaults to False.\n",
    "            checkpoints_cnt (int, optional): количество точек (используется только при генерации карты). Defaults to 10.\n",
    "            minmax (tuple, optional): минимальное и максимальное значение времени между двумя точками (используется только при генерации карты). Defaults to (5, 15).\n",
    "            data (list, optional): карта, заданная пользователем (используется при значении random_generate=False). Defaults to [[],[]].\n",
    "        \"\"\"\n",
    "        if random_generate:\n",
    "            self.start_field = np.random.randint(minmax[0], minmax[1], size=(checkpoints_cnt, checkpoints_cnt))\n",
    "        else:\n",
    "            self.start_field = np.array(data)\n",
    "\n",
    "        self.max_time = self.start_field.max()+1\n",
    "        np.fill_diagonal(self.start_field, self.max_time)\n",
    "        self.checkpoints_cnt = self.start_field.shape[0]\n",
    "        self.current_field = utils.rounding(\n",
    "            field=self.start_field.copy(),\n",
    "            rounding_value=self.__class__.rounding_value)\n",
    "\n",
    "\n",
    "    def reduce(self) -> None:         \n",
    "        \"\"\"Выполнение операции вычитания минимальных значений по строкам и столбцам\n",
    "        \"\"\"\n",
    "        self.current_field = (self.current_field.T - utils.get_min(self.current_field, True)).T\n",
    "        self.current_field -= utils.get_min(self.current_field, False)\n",
    "        np.fill_diagonal(self.current_field, self.max_time)\n",
    "\n",
    "\n",
    "    def check(self) -> np.array:\n",
    "        \"\"\"Поиск возможных решений\n",
    "\n",
    "        Returns:\n",
    "            np.array: найденные решения\n",
    "        \"\"\"\n",
    "        def recursive_search(checkpoint:int, path:list) -> None:\n",
    "            \"\"\"Рекурсивная проверка существования решения\n",
    "\n",
    "            Args:\n",
    "                checkpoint (int): номер точки\n",
    "                path (list): маршрут\n",
    "            \"\"\"\n",
    "            if len(path)==self.checkpoints_cnt:\n",
    "                exists_path.append(path)\n",
    "                return\n",
    "            if checkpoint in path:\n",
    "                return        \n",
    "            path.append(checkpoint)        \n",
    "            for value in checkpoit_times[checkpoint]:\n",
    "                recursive_search(value, path.copy())                \n",
    "            \n",
    "        exists_path = []\n",
    "        rows, columns = np.where(self.current_field==0)\n",
    "        checkpoit_times = {i:[] for i in range(self.checkpoints_cnt)}\n",
    "        for i, rr in enumerate(rows):\n",
    "            checkpoit_times[rr].append(columns[i])\n",
    "        for i in range(self.checkpoints_cnt):\n",
    "            recursive_search(i, [])\n",
    "        if len(exists_path)==0:\n",
    "            return exists_path\n",
    "        return np.unique(exists_path, axis=0)"
   ]
  },
  {
   "cell_type": "code",
   "execution_count": 143,
   "metadata": {},
   "outputs": [
    {
     "name": "stdout",
     "output_type": "stream",
     "text": [
      "[[27  0 16  0  6 16 14 16]\n",
      " [ 0 27 18  0  6 12  2  6]\n",
      " [10  8 27 16  2  0  0  2]\n",
      " [ 0  4  6 27 16  4 20 10]\n",
      " [ 4  0 10  0 27 10 16  2]\n",
      " [12  0 16 18  8 27 14  0]\n",
      " [16  8  0  2  0  2 27  2]\n",
      " [22  0 16 10 12 12  4 27]]\n"
     ]
    },
    {
     "data": {
      "text/plain": [
       "[]"
      ]
     },
     "execution_count": 143,
     "metadata": {},
     "output_type": "execute_result"
    }
   ],
   "source": [
    "hung = Hungarian(random_generate=True, checkpoints_cnt=8, minmax=(4, 27))\n",
    "hung.reduce()\n",
    "print(hung.current_field)\n",
    "hung.check()\n"
   ]
  },
  {
   "cell_type": "code",
   "execution_count": 146,
   "metadata": {},
   "outputs": [],
   "source": [
    "genetic = GeneticRemovingZeros(checkpoint_count=8)"
   ]
  },
  {
   "cell_type": "code",
   "execution_count": 151,
   "metadata": {},
   "outputs": [
    {
     "data": {
      "text/plain": [
       "array([                   0,                    0,                    1,\n",
       "                          0,                    0,                    1,\n",
       "                          1,                    0,                    1,\n",
       "                          1,                    0, -7463636586828776592,\n",
       "                          0,                    0,                    0,\n",
       "                          0])"
      ]
     },
     "execution_count": 151,
     "metadata": {},
     "output_type": "execute_result"
    }
   ],
   "source": [
    "cut_index = genetic.process(hung.current_field)\n",
    "cut_index"
   ]
  },
  {
   "cell_type": "code",
   "execution_count": 148,
   "metadata": {},
   "outputs": [
    {
     "data": {
      "text/plain": [
       "array([[16,  6, 16, 14, 16],\n",
       "       [18,  6, 12,  2,  6],\n",
       "       [ 6, 16,  4, 20, 10],\n",
       "       [10, 27, 10, 16,  2],\n",
       "       [16, 12, 12,  4, 27]])"
      ]
     },
     "execution_count": 148,
     "metadata": {},
     "output_type": "execute_result"
    }
   ],
   "source": [
    "utils.cut_matrix(hung.current_field, cut_index)"
   ]
  },
  {
   "cell_type": "code",
   "execution_count": 149,
   "metadata": {},
   "outputs": [
    {
     "data": {
      "text/plain": [
       "array([[27,  0, 16,  0,  6, 16, 14, 16],\n",
       "       [ 0, 27, 18,  0,  6, 12,  2,  6],\n",
       "       [10,  8, 27, 16,  2,  0,  0,  2],\n",
       "       [ 0,  4,  6, 27, 16,  4, 20, 10],\n",
       "       [ 4,  0, 10,  0, 27, 10, 16,  2],\n",
       "       [12,  0, 16, 18,  8, 27, 14,  0],\n",
       "       [16,  8,  0,  2,  0,  2, 27,  2],\n",
       "       [22,  0, 16, 10, 12, 12,  4, 27]])"
      ]
     },
     "execution_count": 149,
     "metadata": {},
     "output_type": "execute_result"
    }
   ],
   "source": [
    "hung.current_field"
   ]
  },
  {
   "cell_type": "code",
   "execution_count": 150,
   "metadata": {},
   "outputs": [
    {
     "data": {
      "text/plain": [
       "array([                  0,                   0,                   1,\n",
       "                         0,                   0,                   1,\n",
       "                         1,                   0,                   1,\n",
       "                         1,                   0, -176516166584348187,\n",
       "                         0,                   0,                   0,\n",
       "                         0])"
      ]
     },
     "execution_count": 150,
     "metadata": {},
     "output_type": "execute_result"
    }
   ],
   "source": [
    "cut_index"
   ]
  },
  {
   "cell_type": "code",
   "execution_count": null,
   "metadata": {},
   "outputs": [],
   "source": []
  }
 ],
 "metadata": {
  "kernelspec": {
   "display_name": "Python 3.7.4 ('base')",
   "language": "python",
   "name": "python3"
  },
  "language_info": {
   "codemirror_mode": {
    "name": "ipython",
    "version": 3
   },
   "file_extension": ".py",
   "mimetype": "text/x-python",
   "name": "python",
   "nbconvert_exporter": "python",
   "pygments_lexer": "ipython3",
   "version": "3.11.4"
  },
  "orig_nbformat": 4,
  "vscode": {
   "interpreter": {
    "hash": "ad2bdc8ecc057115af97d19610ffacc2b4e99fae6737bb82f5d7fb13d2f2c186"
   }
  }
 },
 "nbformat": 4,
 "nbformat_minor": 2
}
