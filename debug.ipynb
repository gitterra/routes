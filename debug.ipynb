{
 "cells": [
  {
   "cell_type": "code",
   "execution_count": 1,
   "metadata": {},
   "outputs": [
    {
     "data": {
      "text/plain": [
       "<module 'utils' from 'd:\\\\AIU\\\\git\\\\routes\\\\utils.py'>"
      ]
     },
     "execution_count": 1,
     "metadata": {},
     "output_type": "execute_result"
    }
   ],
   "source": [
    "import random\n",
    "import numpy as np\n",
    "import matplotlib.pyplot as plt\n",
    "\n",
    "import utils\n",
    "\n",
    "import importlib as im\n",
    "im.reload(utils)"
   ]
  },
  {
   "cell_type": "code",
   "execution_count": 2,
   "metadata": {},
   "outputs": [],
   "source": [
    "class Hungarian:\n",
    "    rounding_value = 2\n",
    "\n",
    "    def __init__(\n",
    "        self,\n",
    "        random_generate : bool = False,\n",
    "        checkpoints_cnt : int = 10,\n",
    "        minmax : tuple = (5, 15),\n",
    "        data : list = [[],[]]):\n",
    "        \"\"\"инициализация объекта венгерского алгоритма\n",
    "\n",
    "        Args:\n",
    "            random_generate (bool, optional): генерация случайной карты. Defaults to False.\n",
    "            checkpoints_cnt (int, optional): количество точек (используется только при генерации карты). Defaults to 10.\n",
    "            minmax (tuple, optional): минимальное и максимальное значение времени между двумя точками (используется только при генерации карты). Defaults to (5, 15).\n",
    "            data (list, optional): карта, заданная пользователем (используется при значении random_generate=False). Defaults to [[],[]].\n",
    "        \"\"\"\n",
    "        if random_generate:\n",
    "            self.start_field = np.random.randint(minmax[0], minmax[1], size=(checkpoints_cnt, checkpoints_cnt))\n",
    "        else:\n",
    "            self.start_field = np.array(data)\n",
    "\n",
    "        self.max_time = self.start_field.max()+1\n",
    "        np.fill_diagonal(self.start_field, self.max_time)\n",
    "        self.checkpoints_cnt = self.start_field.shape[0]\n",
    "        self.current_field = utils.rounding(\n",
    "            field=self.start_field.copy(),\n",
    "            rounding_value=self.__class__.rounding_value)\n",
    "\n",
    "\n",
    "    def reduce(self) -> None:         \n",
    "        \"\"\"Выполнение операции вычитания минимальных значений по строкам и столбцам\n",
    "        \"\"\"\n",
    "        self.current_field = (self.current_field.T - utils.get_min(self.current_field, True)).T\n",
    "        self.current_field -= utils.get_min(self.current_field, False)\n",
    "        np.fill_diagonal(self.current_field, self.max_time)\n",
    "\n",
    "\n",
    "    def check(self) -> np.array:\n",
    "        \"\"\"Поиск возможных решений\n",
    "\n",
    "        Returns:\n",
    "            np.array: найденные решения\n",
    "        \"\"\"\n",
    "        def recursive_search(checkpoint:int, path:list) -> None:\n",
    "            \"\"\"Рекурсивная проверка существования решения\n",
    "\n",
    "            Args:\n",
    "                checkpoint (int): номер точки\n",
    "                path (list): маршрут\n",
    "            \"\"\"\n",
    "            if len(path)==self.checkpoints_cnt:\n",
    "                exists_path.append(path)\n",
    "                return\n",
    "            if checkpoint in path:\n",
    "                return        \n",
    "            path.append(checkpoint)        \n",
    "            for value in checkpoit_times[checkpoint]:\n",
    "                recursive_search(value, path.copy())                \n",
    "            \n",
    "        exists_path = []\n",
    "        rows, columns = np.where(self.current_field==0)\n",
    "        checkpoit_times = {i:[] for i in range(self.checkpoints_cnt)}\n",
    "        for i, rr in enumerate(rows):\n",
    "            checkpoit_times[rr].append(columns[i])\n",
    "        for i in range(self.checkpoints_cnt):\n",
    "            recursive_search(i, [])\n",
    "        if len(exists_path)==0:\n",
    "            return exists_path\n",
    "        return np.unique(exists_path, axis=0)"
   ]
  },
  {
   "cell_type": "code",
   "execution_count": 95,
   "metadata": {},
   "outputs": [
    {
     "name": "stdout",
     "output_type": "stream",
     "text": [
      "[[27  2  0  8 16 10  8 12  8 20]\n",
      " [10 27 18  2  8 12 20  0  4  0]\n",
      " [ 0  4 27 12 14 18  6 10  4 14]\n",
      " [12  4 14 27 20  8 18 14  0  6]\n",
      " [ 2 16  2 20 27 18  0  8  8 18]\n",
      " [ 8 10  2  8  4 27 14 18  6  0]\n",
      " [ 2 10 18  2  0  6 27 14 14  8]\n",
      " [12 18 18  0  2 20  0 27 20  8]\n",
      " [ 4 22 16 14  0 22 14 12 27 16]\n",
      " [16  0 14 14 16  0 14  4  4 27]]\n"
     ]
    },
    {
     "data": {
      "text/plain": [
       "[]"
      ]
     },
     "execution_count": 95,
     "metadata": {},
     "output_type": "execute_result"
    }
   ],
   "source": [
    "hung = Hungarian(random_generate=True, checkpoints_cnt=10, minmax=(4, 27))\n",
    "hung.reduce()\n",
    "print(hung.current_field)\n",
    "hung.check()\n"
   ]
  },
  {
   "cell_type": "code",
   "execution_count": 138,
   "metadata": {},
   "outputs": [],
   "source": [
    "class GeneticRemovingZeros:\n",
    "    population_size = 250\n",
    "    nsurv = 50\n",
    "    nnew = population_size - nsurv\n",
    "    epochs = 500\n",
    "    mut = 0.25\n",
    "\n",
    "    def __init__(self, checkpoint_count:int) -> None:\n",
    "        \"\"\"Инициализация объекта генетического алгоритма для удаления нулей из временного поля\n",
    "\n",
    "        Args:\n",
    "            checkpoint_count (int): Количество контрольных точек\n",
    "        \"\"\"\n",
    "        self.bot_length = checkpoint_count*2\n",
    "        self.popul = np.random.choice(2, size=(self.__class__.population_size, self.bot_length))\n",
    "\n",
    "\n",
    "    def get_surv_popul(self, val:np.array) -> np.array:\n",
    "        \"\"\"Сортировка популяции в соответствии со значениями оценочной функции\n",
    "\n",
    "        Args:\n",
    "            val (np.array): Значения оценочной функции для каждого бота\n",
    "\n",
    "        Returns:\n",
    "            np.array: Отсортированная популяция (по убыванию)\n",
    "        \"\"\"\n",
    "        return self.popul[val.argsort()[::-1]]\n",
    "\n",
    "  \n",
    "    def cross_point(self, curr_popul: np.array)->np.array:\n",
    "        \"\"\"Скрещивание двух родителей\n",
    "\n",
    "        Args:\n",
    "            curr_popul (np.array): упорядоченная популяция\n",
    "\n",
    "        Returns:\n",
    "            np.array: потомок\n",
    "        \"\"\"\n",
    "        bots = curr_popul[np.random.randint(0, self.__class__.nsurv - 1, size=2)]\n",
    "        return bots\n",
    "\n",
    "    \n",
    "    def process(self, field:np.array)->np.array:\n",
    "        \"\"\"Запуск генетического алгоритма\n",
    "\n",
    "        Args:\n",
    "            field (np.array): временная карта\n",
    "\n",
    "        Returns:\n",
    "            np.array: массив с исключающими колонками и столбцами\n",
    "        \"\"\"\n",
    "        for _ in range(self.__class__.epochs):\n",
    "            validation = np.zeros(shape=self.__class__.population_size)\n",
    "            for i, bot in enumerate(self.popul):\n",
    "                cut_field = utils.cut_matrix(field, bot)\n",
    "                validation[i] = cut_field.size * (np.where(cut_field==0)[0].size - 1)                 \n",
    "            print(validation)"
   ]
  },
  {
   "cell_type": "code",
   "execution_count": 140,
   "metadata": {},
   "outputs": [],
   "source": [
    "genetic = GeneticRemovingZeros(checkpoint_count=3)"
   ]
  },
  {
   "cell_type": "code",
   "execution_count": 142,
   "metadata": {},
   "outputs": [
    {
     "ename": "AttributeError",
     "evalue": "module 'utils' has no attribute 'cut_matrix'",
     "output_type": "error",
     "traceback": [
      "\u001b[1;31m---------------------------------------------------------------------------\u001b[0m",
      "\u001b[1;31mAttributeError\u001b[0m                            Traceback (most recent call last)",
      "\u001b[1;32m<ipython-input-142-0665afa0cc42>\u001b[0m in \u001b[0;36m<module>\u001b[1;34m\u001b[0m\n\u001b[1;32m----> 1\u001b[1;33m \u001b[0mgenetic\u001b[0m\u001b[1;33m.\u001b[0m\u001b[0mprocess\u001b[0m\u001b[1;33m(\u001b[0m\u001b[0mhung\u001b[0m\u001b[1;33m.\u001b[0m\u001b[0mcurrent_field\u001b[0m\u001b[1;33m)\u001b[0m\u001b[1;33m\u001b[0m\u001b[1;33m\u001b[0m\u001b[0m\n\u001b[0m",
      "\u001b[1;32m<ipython-input-138-09ab52b329ef>\u001b[0m in \u001b[0;36mprocess\u001b[1;34m(self, field)\u001b[0m\n\u001b[0;32m     53\u001b[0m             \u001b[0mvalidation\u001b[0m \u001b[1;33m=\u001b[0m \u001b[0mnp\u001b[0m\u001b[1;33m.\u001b[0m\u001b[0mzeros\u001b[0m\u001b[1;33m(\u001b[0m\u001b[0mshape\u001b[0m\u001b[1;33m=\u001b[0m\u001b[0mself\u001b[0m\u001b[1;33m.\u001b[0m\u001b[0m__class__\u001b[0m\u001b[1;33m.\u001b[0m\u001b[0mpopulation_size\u001b[0m\u001b[1;33m)\u001b[0m\u001b[1;33m\u001b[0m\u001b[1;33m\u001b[0m\u001b[0m\n\u001b[0;32m     54\u001b[0m             \u001b[1;32mfor\u001b[0m \u001b[0mi\u001b[0m\u001b[1;33m,\u001b[0m \u001b[0mbot\u001b[0m \u001b[1;32min\u001b[0m \u001b[0menumerate\u001b[0m\u001b[1;33m(\u001b[0m\u001b[0mself\u001b[0m\u001b[1;33m.\u001b[0m\u001b[0mpopul\u001b[0m\u001b[1;33m)\u001b[0m\u001b[1;33m:\u001b[0m\u001b[1;33m\u001b[0m\u001b[1;33m\u001b[0m\u001b[0m\n\u001b[1;32m---> 55\u001b[1;33m                 \u001b[0mcut_field\u001b[0m \u001b[1;33m=\u001b[0m \u001b[0mutils\u001b[0m\u001b[1;33m.\u001b[0m\u001b[0mcut_matrix\u001b[0m\u001b[1;33m(\u001b[0m\u001b[0mfield\u001b[0m\u001b[1;33m,\u001b[0m \u001b[0mbot\u001b[0m\u001b[1;33m)\u001b[0m\u001b[1;33m\u001b[0m\u001b[1;33m\u001b[0m\u001b[0m\n\u001b[0m\u001b[0;32m     56\u001b[0m                 \u001b[0mvalidation\u001b[0m\u001b[1;33m[\u001b[0m\u001b[0mi\u001b[0m\u001b[1;33m]\u001b[0m \u001b[1;33m=\u001b[0m \u001b[0mcut_field\u001b[0m\u001b[1;33m.\u001b[0m\u001b[0msize\u001b[0m \u001b[1;33m*\u001b[0m \u001b[1;33m(\u001b[0m\u001b[0mnp\u001b[0m\u001b[1;33m.\u001b[0m\u001b[0mwhere\u001b[0m\u001b[1;33m(\u001b[0m\u001b[0mcut_field\u001b[0m\u001b[1;33m==\u001b[0m\u001b[1;36m0\u001b[0m\u001b[1;33m)\u001b[0m\u001b[1;33m[\u001b[0m\u001b[1;36m0\u001b[0m\u001b[1;33m]\u001b[0m\u001b[1;33m.\u001b[0m\u001b[0msize\u001b[0m \u001b[1;33m-\u001b[0m \u001b[1;36m1\u001b[0m\u001b[1;33m)\u001b[0m\u001b[1;33m\u001b[0m\u001b[1;33m\u001b[0m\u001b[0m\n\u001b[0;32m     57\u001b[0m             \u001b[0mprint\u001b[0m\u001b[1;33m(\u001b[0m\u001b[0mvalidation\u001b[0m\u001b[1;33m)\u001b[0m\u001b[1;33m\u001b[0m\u001b[1;33m\u001b[0m\u001b[0m\n",
      "\u001b[1;31mAttributeError\u001b[0m: module 'utils' has no attribute 'cut_matrix'"
     ]
    }
   ],
   "source": [
    "genetic.process(hung.current_field)"
   ]
  }
 ],
 "metadata": {
  "kernelspec": {
   "display_name": "Python 3.7.4 ('base')",
   "language": "python",
   "name": "python3"
  },
  "language_info": {
   "codemirror_mode": {
    "name": "ipython",
    "version": 3
   },
   "file_extension": ".py",
   "mimetype": "text/x-python",
   "name": "python",
   "nbconvert_exporter": "python",
   "pygments_lexer": "ipython3",
   "version": "3.7.4"
  },
  "orig_nbformat": 4,
  "vscode": {
   "interpreter": {
    "hash": "ad2bdc8ecc057115af97d19610ffacc2b4e99fae6737bb82f5d7fb13d2f2c186"
   }
  }
 },
 "nbformat": 4,
 "nbformat_minor": 2
}
