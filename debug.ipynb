{
 "cells": [
  {
   "cell_type": "code",
   "execution_count": 1,
   "metadata": {},
   "outputs": [],
   "source": [
    "import random\n",
    "import time\n",
    "import numpy as np\n",
    "import matplotlib.pyplot as plt\n",
    "\n",
    "from genetics import GeneticRemovingZeros\n",
    "import utils"
   ]
  },
  {
   "cell_type": "code",
   "execution_count": 2,
   "metadata": {},
   "outputs": [],
   "source": [
    "class Hungarian:\n",
    "    rounding_value = 5\n",
    "\n",
    "    def __init__(\n",
    "        self,\n",
    "        random_generate : bool = False,\n",
    "        checkpoints_cnt : int = 10,\n",
    "        minmax : tuple = (5, 15),\n",
    "        data : list = [[],[]]):\n",
    "        \"\"\"инициализация объекта венгерского алгоритма\n",
    "\n",
    "        Args:\n",
    "            random_generate (bool, optional): генерация случайной карты. Defaults to False.\n",
    "            checkpoints_cnt (int, optional): количество точек (используется только при генерации карты). Defaults to 10.\n",
    "            minmax (tuple, optional): минимальное и максимальное значение времени между двумя точками (используется только при генерации карты). Defaults to (5, 15).\n",
    "            data (list, optional): карта, заданная пользователем (используется при значении random_generate=False). Defaults to [[],[]].\n",
    "        \"\"\"\n",
    "        if random_generate:\n",
    "            self.start_field = np.random.randint(minmax[0], minmax[1], size=(checkpoints_cnt, checkpoints_cnt))\n",
    "        else:\n",
    "            self.start_field = np.array(data)\n",
    "\n",
    "        self.max_time = self.start_field.max()+1\n",
    "        np.fill_diagonal(self.start_field, self.max_time)\n",
    "        self.checkpoints_cnt = self.start_field.shape[0]\n",
    "        self.current_field = utils.rounding(\n",
    "            field=self.start_field.copy(),\n",
    "            rounding_value=self.__class__.rounding_value)\n",
    "\n",
    "\n",
    "    def reduce(self) -> None:         \n",
    "        \"\"\"Выполнение операции вычитания минимальных значений по строкам и столбцам\n",
    "        \"\"\"\n",
    "        self.current_field = (self.current_field.T - utils.get_min(self.current_field, True)).T\n",
    "        self.current_field -= utils.get_min(self.current_field, False)\n",
    "        np.fill_diagonal(self.current_field, self.max_time)\n",
    "\n",
    "\n",
    "    def check(self) -> np.array:\n",
    "        \"\"\"Поиск возможных решений\n",
    "\n",
    "        Returns:\n",
    "            np.array: найденные решения\n",
    "        \"\"\"\n",
    "        def recursive_search(checkpoint:int, path:list) -> None:\n",
    "            \"\"\"Рекурсивная проверка существования решения\n",
    "\n",
    "            Args:\n",
    "                checkpoint (int): номер точки\n",
    "                path (list): маршрут\n",
    "            \"\"\"\n",
    "            if len(path)==self.checkpoints_cnt:\n",
    "                exists_path.append(path)\n",
    "                return\n",
    "            if checkpoint in path:\n",
    "                return        \n",
    "            path.append(checkpoint)        \n",
    "            for value in checkpoit_times[checkpoint]:\n",
    "                recursive_search(value, path.copy())                \n",
    "            \n",
    "        exists_path = []\n",
    "        rows, columns = np.where(self.current_field==0)\n",
    "        checkpoit_times = {i:[] for i in range(self.checkpoints_cnt)}\n",
    "        for i, rr in enumerate(rows):\n",
    "            checkpoit_times[rr].append(columns[i])\n",
    "        for i in range(self.checkpoints_cnt):\n",
    "            recursive_search(i, [])\n",
    "        if len(exists_path)==0:\n",
    "            return exists_path\n",
    "        return np.unique(exists_path, axis=0)\n",
    "\n",
    "\n",
    "    def postprocess(self) -> bool:\n",
    "        \"\"\"Функция обработки временной карты\n",
    "\n",
    "        Returns:\n",
    "            bool: количество \"вычеркиваний\" совпадает с количеством пунктов\n",
    "        \"\"\"\n",
    "        genetic = GeneticRemovingZeros(self.checkpoints_cnt)\n",
    "        row_columns, validation = genetic.process(self.current_field)\n",
    "        #print(f'row_columns: {row_columns}')\n",
    "        #print(f'validataion: {validation}')\n",
    "        row_indexes = np.where(row_columns[:self.checkpoints_cnt]==1)[0]\n",
    "        col_indexes = np.where(row_columns[self.checkpoints_cnt:]==1)[0]\n",
    "        value = utils.cut_matrix(self.current_field, row_columns).min()\n",
    "        self.current_field -= value\n",
    "        self.current_field[row_indexes, :]+=value\n",
    "        self.current_field[:, col_indexes]+=value\n",
    "        np.fill_diagonal(self.current_field, self.max_time)\n",
    "        return row_columns.sum()==self.checkpoints_cnt \n",
    "\n",
    "\n",
    "    def process(self):\n",
    "        start_time = time.time()\n",
    "        self.reduce()\n",
    "        path = self.check()\n",
    "        while not len(path):\n",
    "            #print(f'Итерация {i}')\n",
    "            self.postprocess()\n",
    "            self.reduce()\n",
    "            path = self.check()\n",
    "        return path\n",
    "            #print(f'time: {round(time.time()-start_time, 2)}')\n",
    "        #print('Решение найдено')\n",
    "        #print(self.current_field)\n",
    "\n",
    "    \n",
    "    def show_result(self, path):\n",
    "        colors = ['#FFA773', '#1F7C65']\n",
    "        cmap = plt.cm.colors.ListedColormap(colors)\n",
    "        array = self.current_field.copy()\n",
    "        array[array>0]=1\n",
    "        plt.figure(figsize=(self.checkpoints_cnt, self.checkpoints_cnt))\n",
    "        plt.imshow(array, cmap=cmap)\n",
    "        plt.axis('off')\n",
    "        # Вывод значений элементов массива на графике\n",
    "        for i in range(self.current_field.shape[0]):\n",
    "            for j in range(self.current_field.shape[1]):\n",
    "                plt.text(j, i, str(self.start_field[i, j]), ha='center', va='center', color='black', fontsize=14)\n",
    "        # Отображение маршрута с использованием plot\n",
    "        coordinates = np.lib.stride_tricks.sliding_window_view(path, 2)\n",
    "        coordinates = np.append(coordinates, [coordinates[-1, 1], coordinates[-1, 1]]).reshape((-1, 2))\n",
    "        x_coords, y_coords = zip(*coordinates)\n",
    "        plt.plot(y_coords, x_coords, marker='o',  markersize=25, color='#FFD240', label='Маршрут')\n",
    "        # Отображение начальной точки маршрута\n",
    "        plt.plot(coordinates[0][1], coordinates[0][0], marker='o', markersize=25, color='#FF7400', label='Начало')\n",
    "         # Отображение конечной точки маршрута\n",
    "        plt.plot(coordinates[-1][1], coordinates[-1][0], marker='o', markersize=25, color='#4E9600', label='Начало')\n",
    "        plt.show()\n"
   ]
  },
  {
   "cell_type": "code",
   "execution_count": 4,
   "metadata": {},
   "outputs": [
    {
     "name": "stdout",
     "output_type": "stream",
     "text": [
      "[3 5 1 0 4 2]\n"
     ]
    },
    {
     "data": {
      "image/png": "[encoded data removed]",
      "text/plain": [
       "<Figure size 600x600 with 1 Axes>"
      ]
     },
     "metadata": {},
     "output_type": "display_data"
    }
   ],
   "source": [
    "hung = Hungarian(random_generate=True, checkpoints_cnt=6, minmax=(7, 87))\n",
    "paths = hung.process()\n",
    "print(paths[0])\n",
    "hung.show_result(paths[0])"
   ]
  },
  {
   "cell_type": "code",
   "execution_count": 210,
   "metadata": {},
   "outputs": [
    {
     "name": "stdout",
     "output_type": "stream",
     "text": [
      "count 4: avrg time: 0.11\n",
      "count 5: avrg time: 0.07\n"
     ]
    }
   ],
   "source": [
    "for i in range(4, 6):\n",
    "    print(f'count {i}:', end = ' ')\n",
    "    ti = time.time()\n",
    "    for _ in range(100):\n",
    "        hung = Hungarian(random_generate=True, checkpoints_cnt=i, minmax=(4, 27))\n",
    "        hung.process()\n",
    "    print(f'avrg time: {round((time.time()-ti)/100, 2)}')"
   ]
  },
  {
   "cell_type": "code",
   "execution_count": 105,
   "metadata": {},
   "outputs": [],
   "source": [
    "import importlib as im\n",
    "import genetics\n",
    "im.reload(utils)\n",
    "im.reload(genetics)\n",
    "\n",
    "from genetics import GeneticRemovingZeros\n",
    "\n",
    "genetic = GeneticRemovingZeros(checkpoint_count=8)"
   ]
  },
  {
   "cell_type": "code",
   "execution_count": 18,
   "metadata": {},
   "outputs": [],
   "source": [
    "class GeneticDriver:\n",
    "    population_size = 100\n",
    "    def __init__(self, field : np.array, driver_count:int):\n",
    "        \"\"\"Конструктор генетического алгоритма сортировки водителей\n",
    "\n",
    "        Args:\n",
    "            field (np.array): временная карта\n",
    "            driver_count (int): количество водителей\n",
    "        \"\"\"\n",
    "        self.field = field\n",
    "        self.driver_count = driver_count\n",
    "        self.bot_length = self.field.shape[0]\n",
    "        self.popul = np.random.choice(self.driver_count, size=(self.__class__.population_size, self.bot_length))\n",
    "\n",
    "\n",
    "    def get_fields(self, bot:np.array) -> list:\n",
    "        fields = []\n",
    "        for i in range(self.driver_count):\n",
    "            indexes = np.where(bot==i)[0]\n",
    "            print(np.concatenate((indexes, indexes)))\n",
    "            fields.append(utils.cut_matrix(self.field, np.concatenate((indexes, indexes))))\n",
    "        return fields\n"
   ]
  },
  {
   "cell_type": "code",
   "execution_count": 19,
   "metadata": {},
   "outputs": [
    {
     "data": {
      "text/plain": [
       "array([1, 0, 0, 1, 1, 1])"
      ]
     },
     "execution_count": 19,
     "metadata": {},
     "output_type": "execute_result"
    }
   ],
   "source": [
    "geneticDriver = GeneticDriver(\n",
    "    field=hung.start_field,\n",
    "    driver_count=2\n",
    ")\n",
    "\n",
    "geneticDriver.popul[0]"
   ]
  },
  {
   "cell_type": "code",
   "execution_count": 20,
   "metadata": {},
   "outputs": [
    {
     "data": {
      "text/plain": [
       "array([[87, 24, 27, 47, 35, 27],\n",
       "       [ 9, 87, 41, 47, 85, 27],\n",
       "       [24, 53, 87, 72, 85, 59],\n",
       "       [35, 30, 46, 87, 17,  8],\n",
       "       [56, 83,  8, 43, 87, 86],\n",
       "       [67, 37, 71, 59, 70, 87]])"
      ]
     },
     "execution_count": 20,
     "metadata": {},
     "output_type": "execute_result"
    }
   ],
   "source": [
    "hung.start_field"
   ]
  },
  {
   "cell_type": "code",
   "execution_count": 21,
   "metadata": {},
   "outputs": [
    {
     "name": "stdout",
     "output_type": "stream",
     "text": [
      "[1 2 1 2]\n",
      "[0 3 4 5 0 3 4 5]\n"
     ]
    },
    {
     "data": {
      "text/plain": [
       "[array([], shape=(6, 0), dtype=int64),\n",
       " array([[87, 24, 27, 47, 35, 27],\n",
       "        [56, 83,  8, 43, 87, 86]])]"
      ]
     },
     "execution_count": 21,
     "metadata": {},
     "output_type": "execute_result"
    }
   ],
   "source": [
    "geneticDriver.get_fields(geneticDriver.popul[0])"
   ]
  },
  {
   "cell_type": "code",
   "execution_count": null,
   "metadata": {},
   "outputs": [],
   "source": []
  }
 ],
 "metadata": {
  "kernelspec": {
   "display_name": "Python 3.7.4 ('base')",
   "language": "python",
   "name": "python3"
  },
  "language_info": {
   "codemirror_mode": {
    "name": "ipython",
    "version": 3
   },
   "file_extension": ".py",
   "mimetype": "text/x-python",
   "name": "python",
   "nbconvert_exporter": "python",
   "pygments_lexer": "ipython3",
   "version": "3.11.4"
  },
  "orig_nbformat": 4,
  "vscode": {
   "interpreter": {
    "hash": "ad2bdc8ecc057115af97d19610ffacc2b4e99fae6737bb82f5d7fb13d2f2c186"
   }
  }
 },
 "nbformat": 4,
 "nbformat_minor": 2
}
